{
  "nbformat": 4,
  "nbformat_minor": 0,
  "metadata": {
    "colab": {
      "name": "final_project.ipynb",
      "version": "0.3.2",
      "provenance": [],
      "collapsed_sections": []
    },
    "kernelspec": {
      "name": "python3",
      "display_name": "Python 3"
    },
    "accelerator": "GPU"
  },
  "cells": [
    {
      "metadata": {
        "id": "AeM0DMijfzZG",
        "colab_type": "code",
        "outputId": "d38b3145-5434-46f2-ea22-fe79005f7444",
        "colab": {
          "base_uri": "https://localhost:8080/",
          "height": 34
        }
      },
      "cell_type": "code",
      "source": [
        "import numpy as np\n",
        "from matplotlib import pyplot as plt\n",
        "import pandas as pd\n",
        "import random\n",
        "import re\n",
        "import string\n",
        "from tensorflow.keras.models import Sequential, model_from_json\n",
        "from tensorflow.keras.layers import Embedding, LSTM, BatchNormalization, Dense, Activation, Flatten\n",
        "from tensorflow.keras.preprocessing.sequence import pad_sequences\n",
        "from tensorflow.keras.backend import clear_session\n",
        "import nltk\n",
        "from nltk.corpus import stopwords\n",
        "from nltk.tokenize import word_tokenize, sent_tokenize, RegexpTokenizer\n",
        "from vaderSentiment.vaderSentiment import SentimentIntensityAnalyzer\n",
        "from imblearn.under_sampling import RandomUnderSampler\n",
        "from sklearn.model_selection import train_test_split\n",
        "from sklearn.utils import shuffle\n",
        "import gensim\n",
        "from google.colab import drive\n",
        "drive.mount('/content/gdrive')"
      ],
      "execution_count": 0,
      "outputs": [
        {
          "output_type": "stream",
          "text": [
            "Drive already mounted at /content/gdrive; to attempt to forcibly remount, call drive.mount(\"/content/gdrive\", force_remount=True).\n"
          ],
          "name": "stdout"
        }
      ]
    },
    {
      "metadata": {
        "id": "K63ncykOfzZL",
        "colab_type": "code",
        "colab": {}
      },
      "cell_type": "code",
      "source": [
        "analyzer = SentimentIntensityAnalyzer()"
      ],
      "execution_count": 0,
      "outputs": []
    },
    {
      "metadata": {
        "id": "3cAU4AspfzZO",
        "colab_type": "code",
        "colab": {}
      },
      "cell_type": "code",
      "source": [
        "def get_review_ratings(string):\n",
        "    \"\"\"takes the required numbers from the review ratings column\"\"\"\n",
        "    return int(re.findall(takenums, string)[0]) / 10"
      ],
      "execution_count": 0,
      "outputs": []
    },
    {
      "metadata": {
        "id": "kmXY3tlcfzZR",
        "colab_type": "code",
        "colab": {}
      },
      "cell_type": "code",
      "source": [
        "def remove_chevron_contents(string):\n",
        "    \"\"\"removes unwanted html tags from reviews\"\"\"\n",
        "    return re.sub(remchev,'', string)"
      ],
      "execution_count": 0,
      "outputs": []
    },
    {
      "metadata": {
        "id": "o9ppXHrPfzZT",
        "colab_type": "code",
        "colab": {}
      },
      "cell_type": "code",
      "source": [
        "def remove_whitespace(string):\n",
        "    \"\"\"removes unwanted whitespace from start and end of restaurant names\"\"\"\n",
        "    return re.sub(remspace, '', string)"
      ],
      "execution_count": 0,
      "outputs": []
    },
    {
      "metadata": {
        "id": "oHWNDKDXfzZW",
        "colab_type": "code",
        "colab": {}
      },
      "cell_type": "code",
      "source": [
        "def get_restaurant_ratings(string):\n",
        "    \"\"\"extracts restaurant ratings from strings\"\"\"\n",
        "    return float(re.findall(first3chars, string)[0])"
      ],
      "execution_count": 0,
      "outputs": []
    },
    {
      "metadata": {
        "id": "mXk_tadqfzZY",
        "colab_type": "code",
        "colab": {}
      },
      "cell_type": "code",
      "source": [
        "def remove_non_nums(string):\n",
        "    \"\"\"extracts numeric characters from a string\"\"\"\n",
        "    return int(re.sub(numsonly, '', string))"
      ],
      "execution_count": 0,
      "outputs": []
    },
    {
      "metadata": {
        "id": "nLlqEI-8fzZa",
        "colab_type": "code",
        "colab": {}
      },
      "cell_type": "code",
      "source": [
        "def get_vader_scores(review):\n",
        "    scores = []\n",
        "    for sentence in review:\n",
        "        scores.append(analyzer.polarity_scores(sentence)['compound'])\n",
        "    return scores"
      ],
      "execution_count": 0,
      "outputs": []
    },
    {
      "metadata": {
        "id": "zzytLr3OfzZe",
        "colab_type": "code",
        "colab": {}
      },
      "cell_type": "code",
      "source": [
        "def preprocessing(review):\n",
        "    \"\"\"split each review into words, taking into account the way nltk handles punctuation\"\"\"\n",
        "    # replace full stops by a space (as nltk tokenizer does not separate words with a full stop and no space)\n",
        "    nodots = re.sub('\\.', ' ', review)\n",
        "    # split review into list of word 'tokens'\n",
        "    tokens = word_tokenize(nodots)\n",
        "    # convert to lower case \n",
        "    lowercase = [token.lower() for token in tokens]\n",
        "    # remove punctuation\n",
        "    table = str.maketrans('', '', string.punctuation)\n",
        "    stripped = [w.translate(table) for w in lowercase]\n",
        "    # filter out remaining non-alphabetic tokens\n",
        "    words = [word for word in stripped if word.isalpha()]\n",
        "    # finally, remove stop words\n",
        "    tokens = [w for w in words if not w in stop_words]\n",
        "    return tokens"
      ],
      "execution_count": 0,
      "outputs": []
    },
    {
      "metadata": {
        "id": "qofLCo0kfzZh",
        "colab_type": "code",
        "colab": {}
      },
      "cell_type": "code",
      "source": [
        "df = pd.read_csv('/content/gdrive/My Drive/output_ANOTHER.csv')"
      ],
      "execution_count": 0,
      "outputs": []
    },
    {
      "metadata": {
        "id": "osy2gL30fzZk",
        "colab_type": "code",
        "outputId": "de221488-98b7-4ef8-da8f-67c47960c20d",
        "colab": {
          "base_uri": "https://localhost:8080/",
          "height": 173
        }
      },
      "cell_type": "code",
      "source": [
        "df.describe()"
      ],
      "execution_count": 0,
      "outputs": [
        {
          "output_type": "execute_result",
          "data": {
            "text/html": [
              "<div>\n",
              "<style scoped>\n",
              "    .dataframe tbody tr th:only-of-type {\n",
              "        vertical-align: middle;\n",
              "    }\n",
              "\n",
              "    .dataframe tbody tr th {\n",
              "        vertical-align: top;\n",
              "    }\n",
              "\n",
              "    .dataframe thead th {\n",
              "        text-align: right;\n",
              "    }\n",
              "</style>\n",
              "<table border=\"1\" class=\"dataframe\">\n",
              "  <thead>\n",
              "    <tr style=\"text-align: right;\">\n",
              "      <th></th>\n",
              "      <th>reviewer_name</th>\n",
              "      <th>review_rating</th>\n",
              "      <th>review_title</th>\n",
              "      <th>full_reviews</th>\n",
              "      <th>review_date</th>\n",
              "      <th>restaurant_name</th>\n",
              "      <th>restaurant_rating</th>\n",
              "      <th>restaurant_review_count</th>\n",
              "    </tr>\n",
              "  </thead>\n",
              "  <tbody>\n",
              "    <tr>\n",
              "      <th>count</th>\n",
              "      <td>394692</td>\n",
              "      <td>394692</td>\n",
              "      <td>394691</td>\n",
              "      <td>394692</td>\n",
              "      <td>394692</td>\n",
              "      <td>394692</td>\n",
              "      <td>394692</td>\n",
              "      <td>394692</td>\n",
              "    </tr>\n",
              "    <tr>\n",
              "      <th>unique</th>\n",
              "      <td>163209</td>\n",
              "      <td>6</td>\n",
              "      <td>246734</td>\n",
              "      <td>388073</td>\n",
              "      <td>110</td>\n",
              "      <td>2204</td>\n",
              "      <td>10</td>\n",
              "      <td>630</td>\n",
              "    </tr>\n",
              "    <tr>\n",
              "      <th>top</th>\n",
              "      <td>david n</td>\n",
              "      <td>&lt;span class=\"ui_bubble_rating bubble_50\"&gt;&lt;/span&gt;</td>\n",
              "      <td>Excellent</td>\n",
              "      <td>&lt;p class=\"partial_entry\"&gt;We have been to this ...</td>\n",
              "      <td>August 2016</td>\n",
              "      <td>Jamie's Italian</td>\n",
              "      <td>4.0 of 5 bubbles</td>\n",
              "      <td>5,243 Reviews</td>\n",
              "    </tr>\n",
              "    <tr>\n",
              "      <th>freq</th>\n",
              "      <td>280</td>\n",
              "      <td>220694</td>\n",
              "      <td>2150</td>\n",
              "      <td>4</td>\n",
              "      <td>7692</td>\n",
              "      <td>4751</td>\n",
              "      <td>164729</td>\n",
              "      <td>4751</td>\n",
              "    </tr>\n",
              "  </tbody>\n",
              "</table>\n",
              "</div>"
            ],
            "text/plain": [
              "       reviewer_name                                     review_rating  \\\n",
              "count         394692                                            394692   \n",
              "unique        163209                                                 6   \n",
              "top          david n  <span class=\"ui_bubble_rating bubble_50\"></span>   \n",
              "freq             280                                            220694   \n",
              "\n",
              "       review_title                                       full_reviews  \\\n",
              "count        394691                                             394692   \n",
              "unique       246734                                             388073   \n",
              "top       Excellent  <p class=\"partial_entry\">We have been to this ...   \n",
              "freq           2150                                                  4   \n",
              "\n",
              "         review_date    restaurant_name restaurant_rating  \\\n",
              "count         394692             394692            394692   \n",
              "unique           110               2204                10   \n",
              "top      August 2016   Jamie's Italian   4.0 of 5 bubbles   \n",
              "freq            7692               4751            164729   \n",
              "\n",
              "       restaurant_review_count  \n",
              "count                   394692  \n",
              "unique                     630  \n",
              "top              5,243 Reviews  \n",
              "freq                      4751  "
            ]
          },
          "metadata": {
            "tags": []
          },
          "execution_count": 14
        }
      ]
    },
    {
      "metadata": {
        "id": "hIcmgNNnfzZo",
        "colab_type": "code",
        "colab": {}
      },
      "cell_type": "code",
      "source": [
        "df.drop_duplicates(inplace=True)"
      ],
      "execution_count": 0,
      "outputs": []
    },
    {
      "metadata": {
        "id": "aPASqLQrfzZq",
        "colab_type": "code",
        "colab": {}
      },
      "cell_type": "code",
      "source": [
        "# select and delete an erroneous row that appears in the scraped csv file, whose values are equal to the column names\n",
        "delete = df.index[df['restaurant_rating'] == 'restaurant_rating'][0]"
      ],
      "execution_count": 0,
      "outputs": []
    },
    {
      "metadata": {
        "id": "Cfh3XP8KfzZs",
        "colab_type": "code",
        "colab": {}
      },
      "cell_type": "code",
      "source": [
        "df.drop(delete, inplace=True)"
      ],
      "execution_count": 0,
      "outputs": []
    },
    {
      "metadata": {
        "id": "f-XVVKn5fzZu",
        "colab_type": "code",
        "colab": {}
      },
      "cell_type": "code",
      "source": [
        "# regular expressions to clean the text:\n",
        "takenums = '\\d+'\n",
        "remchev = '\\<(.*?)\\>'\n",
        "remspace = '^[ \\t]+|[ \\t]+$'\n",
        "first3chars = '^...'\n",
        "numsonly = '[^0-9]'"
      ],
      "execution_count": 0,
      "outputs": []
    },
    {
      "metadata": {
        "id": "mw4dFgjofzZw",
        "colab_type": "code",
        "colab": {}
      },
      "cell_type": "code",
      "source": [
        "df['review_rating'] = df['review_rating'].apply(get_review_ratings)"
      ],
      "execution_count": 0,
      "outputs": []
    },
    {
      "metadata": {
        "id": "ObY4dJkkfzZy",
        "colab_type": "code",
        "colab": {}
      },
      "cell_type": "code",
      "source": [
        "df['full_reviews'] = df['full_reviews'].apply(remove_chevron_contents)"
      ],
      "execution_count": 0,
      "outputs": []
    },
    {
      "metadata": {
        "id": "524XKrGofzZ1",
        "colab_type": "code",
        "colab": {}
      },
      "cell_type": "code",
      "source": [
        "df['restaurant_name'] = df['restaurant_name'].apply(remove_whitespace)"
      ],
      "execution_count": 0,
      "outputs": []
    },
    {
      "metadata": {
        "id": "WgBWEtjQfzZ4",
        "colab_type": "code",
        "colab": {}
      },
      "cell_type": "code",
      "source": [
        "df['restaurant_rating'] = df['restaurant_rating'].apply(get_restaurant_ratings)"
      ],
      "execution_count": 0,
      "outputs": []
    },
    {
      "metadata": {
        "id": "x-Sg3_KkfzZ6",
        "colab_type": "code",
        "colab": {}
      },
      "cell_type": "code",
      "source": [
        "df['restaurant_review_count'] = df['restaurant_review_count'].apply(remove_non_nums)"
      ],
      "execution_count": 0,
      "outputs": []
    },
    {
      "metadata": {
        "id": "f98btvx0fzZ9",
        "colab_type": "code",
        "outputId": "2baab7e5-4d36-4c8d-a729-ada3e4c1b95d",
        "colab": {
          "base_uri": "https://localhost:8080/",
          "height": 359
        }
      },
      "cell_type": "code",
      "source": [
        "df.head(10)"
      ],
      "execution_count": 0,
      "outputs": [
        {
          "output_type": "execute_result",
          "data": {
            "text/html": [
              "<div>\n",
              "<style scoped>\n",
              "    .dataframe tbody tr th:only-of-type {\n",
              "        vertical-align: middle;\n",
              "    }\n",
              "\n",
              "    .dataframe tbody tr th {\n",
              "        vertical-align: top;\n",
              "    }\n",
              "\n",
              "    .dataframe thead th {\n",
              "        text-align: right;\n",
              "    }\n",
              "</style>\n",
              "<table border=\"1\" class=\"dataframe\">\n",
              "  <thead>\n",
              "    <tr style=\"text-align: right;\">\n",
              "      <th></th>\n",
              "      <th>reviewer_name</th>\n",
              "      <th>review_rating</th>\n",
              "      <th>review_title</th>\n",
              "      <th>full_reviews</th>\n",
              "      <th>review_date</th>\n",
              "      <th>restaurant_name</th>\n",
              "      <th>restaurant_rating</th>\n",
              "      <th>restaurant_review_count</th>\n",
              "    </tr>\n",
              "  </thead>\n",
              "  <tbody>\n",
              "    <tr>\n",
              "      <th>0</th>\n",
              "      <td>allanKeswick</td>\n",
              "      <td>5.0</td>\n",
              "      <td>loved the staff</td>\n",
              "      <td>I was in Manchester with my tg gurlfriend and ...</td>\n",
              "      <td>March 2019</td>\n",
              "      <td>No. 1 Canal Street</td>\n",
              "      <td>4.5</td>\n",
              "      <td>286</td>\n",
              "    </tr>\n",
              "    <tr>\n",
              "      <th>1</th>\n",
              "      <td>396sidh</td>\n",
              "      <td>4.0</td>\n",
              "      <td>Quick &amp; Good lunch !</td>\n",
              "      <td>It was our anniversary and we were looking for...</td>\n",
              "      <td>March 2019</td>\n",
              "      <td>No. 1 Canal Street</td>\n",
              "      <td>4.5</td>\n",
              "      <td>286</td>\n",
              "    </tr>\n",
              "    <tr>\n",
              "      <th>2</th>\n",
              "      <td>458stepheno</td>\n",
              "      <td>5.0</td>\n",
              "      <td>Really enjoy</td>\n",
              "      <td>Hey a lovely meal staff where lovely was over ...</td>\n",
              "      <td>March 2019</td>\n",
              "      <td>No. 1 Canal Street</td>\n",
              "      <td>4.5</td>\n",
              "      <td>286</td>\n",
              "    </tr>\n",
              "    <tr>\n",
              "      <th>3</th>\n",
              "      <td>mancgay44</td>\n",
              "      <td>4.0</td>\n",
              "      <td>Service Excellent, food beautiful</td>\n",
              "      <td>Everything was lovely, especially peanut butte...</td>\n",
              "      <td>March 2019</td>\n",
              "      <td>No. 1 Canal Street</td>\n",
              "      <td>4.5</td>\n",
              "      <td>286</td>\n",
              "    </tr>\n",
              "    <tr>\n",
              "      <th>4</th>\n",
              "      <td>125dalem</td>\n",
              "      <td>5.0</td>\n",
              "      <td>Amazing food, Amazing service every time</td>\n",
              "      <td>Every time we visit No.1 Canal Street we get t...</td>\n",
              "      <td>March 2019</td>\n",
              "      <td>No. 1 Canal Street</td>\n",
              "      <td>4.5</td>\n",
              "      <td>286</td>\n",
              "    </tr>\n",
              "    <tr>\n",
              "      <th>5</th>\n",
              "      <td>Stacey W</td>\n",
              "      <td>5.0</td>\n",
              "      <td>Amazing restaurant</td>\n",
              "      <td>Visited here for anniversary. The food was abs...</td>\n",
              "      <td>March 2019</td>\n",
              "      <td>Alston Bar &amp; Beef</td>\n",
              "      <td>4.5</td>\n",
              "      <td>618</td>\n",
              "    </tr>\n",
              "    <tr>\n",
              "      <th>6</th>\n",
              "      <td>pbarrett1116</td>\n",
              "      <td>5.0</td>\n",
              "      <td>Fantastic steak. Great price</td>\n",
              "      <td>Wow. 2 courses for 15 pounds. Usually means ba...</td>\n",
              "      <td>March 2019</td>\n",
              "      <td>Alston Bar &amp; Beef</td>\n",
              "      <td>4.5</td>\n",
              "      <td>618</td>\n",
              "    </tr>\n",
              "    <tr>\n",
              "      <th>7</th>\n",
              "      <td>crowlady1922</td>\n",
              "      <td>5.0</td>\n",
              "      <td>Excellent steak, and even better service!</td>\n",
              "      <td>I visited this restaurant last Saturday, and w...</td>\n",
              "      <td>March 2019</td>\n",
              "      <td>Alston Bar &amp; Beef</td>\n",
              "      <td>4.5</td>\n",
              "      <td>618</td>\n",
              "    </tr>\n",
              "    <tr>\n",
              "      <th>8</th>\n",
              "      <td>graybird</td>\n",
              "      <td>4.0</td>\n",
              "      <td>mixed feelings.</td>\n",
              "      <td>Cannot fault the food or service, cleanliness ...</td>\n",
              "      <td>March 2019</td>\n",
              "      <td>Alston Bar &amp; Beef</td>\n",
              "      <td>4.5</td>\n",
              "      <td>618</td>\n",
              "    </tr>\n",
              "    <tr>\n",
              "      <th>9</th>\n",
              "      <td>Getaway54377574843</td>\n",
              "      <td>5.0</td>\n",
              "      <td>The best steak in town!</td>\n",
              "      <td>The staff couldn’t do enough for us and the fo...</td>\n",
              "      <td>March 2019</td>\n",
              "      <td>Alston Bar &amp; Beef</td>\n",
              "      <td>4.5</td>\n",
              "      <td>618</td>\n",
              "    </tr>\n",
              "  </tbody>\n",
              "</table>\n",
              "</div>"
            ],
            "text/plain": [
              "        reviewer_name  review_rating  \\\n",
              "0        allanKeswick            5.0   \n",
              "1             396sidh            4.0   \n",
              "2         458stepheno            5.0   \n",
              "3           mancgay44            4.0   \n",
              "4            125dalem            5.0   \n",
              "5            Stacey W            5.0   \n",
              "6        pbarrett1116            5.0   \n",
              "7        crowlady1922            5.0   \n",
              "8            graybird            4.0   \n",
              "9  Getaway54377574843            5.0   \n",
              "\n",
              "                                review_title  \\\n",
              "0                            loved the staff   \n",
              "1                       Quick & Good lunch !   \n",
              "2                              Really enjoy    \n",
              "3          Service Excellent, food beautiful   \n",
              "4  Amazing food, Amazing service every time    \n",
              "5                         Amazing restaurant   \n",
              "6               Fantastic steak. Great price   \n",
              "7  Excellent steak, and even better service!   \n",
              "8                            mixed feelings.   \n",
              "9                    The best steak in town!   \n",
              "\n",
              "                                        full_reviews  review_date  \\\n",
              "0  I was in Manchester with my tg gurlfriend and ...   March 2019   \n",
              "1  It was our anniversary and we were looking for...   March 2019   \n",
              "2  Hey a lovely meal staff where lovely was over ...   March 2019   \n",
              "3  Everything was lovely, especially peanut butte...   March 2019   \n",
              "4  Every time we visit No.1 Canal Street we get t...   March 2019   \n",
              "5  Visited here for anniversary. The food was abs...   March 2019   \n",
              "6  Wow. 2 courses for 15 pounds. Usually means ba...   March 2019   \n",
              "7  I visited this restaurant last Saturday, and w...   March 2019   \n",
              "8  Cannot fault the food or service, cleanliness ...   March 2019   \n",
              "9  The staff couldn’t do enough for us and the fo...   March 2019   \n",
              "\n",
              "      restaurant_name  restaurant_rating  restaurant_review_count  \n",
              "0  No. 1 Canal Street                4.5                      286  \n",
              "1  No. 1 Canal Street                4.5                      286  \n",
              "2  No. 1 Canal Street                4.5                      286  \n",
              "3  No. 1 Canal Street                4.5                      286  \n",
              "4  No. 1 Canal Street                4.5                      286  \n",
              "5   Alston Bar & Beef                4.5                      618  \n",
              "6   Alston Bar & Beef                4.5                      618  \n",
              "7   Alston Bar & Beef                4.5                      618  \n",
              "8   Alston Bar & Beef                4.5                      618  \n",
              "9   Alston Bar & Beef                4.5                      618  "
            ]
          },
          "metadata": {
            "tags": []
          },
          "execution_count": 24
        }
      ]
    },
    {
      "metadata": {
        "id": "gvJVB-oufzaA",
        "colab_type": "code",
        "colab": {}
      },
      "cell_type": "code",
      "source": [
        "df['title_plus_review'] = df['review_title'].astype(str) + \". \" + df['full_reviews'].astype(str)"
      ],
      "execution_count": 0,
      "outputs": []
    },
    {
      "metadata": {
        "id": "uy7oiNUMfzaC",
        "colab_type": "code",
        "colab": {}
      },
      "cell_type": "code",
      "source": [
        "df['sentences'] = df['title_plus_review'].apply(sent_tokenize)"
      ],
      "execution_count": 0,
      "outputs": []
    },
    {
      "metadata": {
        "id": "xXmjBxXnfzaF",
        "colab_type": "code",
        "colab": {}
      },
      "cell_type": "code",
      "source": [
        ""
      ],
      "execution_count": 0,
      "outputs": []
    },
    {
      "metadata": {
        "id": "f0BwWESpfzaH",
        "colab_type": "code",
        "colab": {}
      },
      "cell_type": "code",
      "source": [
        "df['vader_scores'] = df['sentences'].apply(get_vader_scores)"
      ],
      "execution_count": 0,
      "outputs": []
    },
    {
      "metadata": {
        "id": "RBL4CHfKfzaK",
        "colab_type": "code",
        "colab": {}
      },
      "cell_type": "code",
      "source": [
        "df['avg_vader_score'] = df['vader_scores'].apply(np.mean)"
      ],
      "execution_count": 0,
      "outputs": []
    },
    {
      "metadata": {
        "id": "Og_Gaabv-ND6",
        "colab_type": "code",
        "outputId": "4227faf3-2e6e-49cb-c1e7-95f6a3274294",
        "colab": {
          "base_uri": "https://localhost:8080/",
          "height": 68
        }
      },
      "cell_type": "code",
      "source": [
        "nltk.download('stopwords')"
      ],
      "execution_count": 0,
      "outputs": [
        {
          "output_type": "stream",
          "text": [
            "[nltk_data] Downloading package stopwords to /root/nltk_data...\n",
            "[nltk_data]   Package stopwords is already up-to-date!\n"
          ],
          "name": "stdout"
        },
        {
          "output_type": "execute_result",
          "data": {
            "text/plain": [
              "True"
            ]
          },
          "metadata": {
            "tags": []
          },
          "execution_count": 33
        }
      ]
    },
    {
      "metadata": {
        "id": "pDzz5OaYfzaO",
        "colab_type": "code",
        "colab": {}
      },
      "cell_type": "code",
      "source": [
        "stop_words = set(stopwords.words('english'))"
      ],
      "execution_count": 0,
      "outputs": []
    },
    {
      "metadata": {
        "id": "_5NN43VOfzaP",
        "colab_type": "code",
        "colab": {}
      },
      "cell_type": "code",
      "source": [
        "# list of \"stop words\" I wanted to keep as they carry semantic importance\n",
        "stop_words.remove(\"not\")\n",
        "stop_words.remove(\"but\")\n",
        "stop_words.remove(\"only\")\n",
        "stop_words.remove(\"against\")\n",
        "stop_words.remove(\"again\")\n",
        "stop_words.remove(\"nor\")\n",
        "stop_words.remove(\"no\")\n",
        "stop_words.remove(\"off\")"
      ],
      "execution_count": 0,
      "outputs": []
    },
    {
      "metadata": {
        "id": "vhz_yKe2fzaR",
        "colab_type": "code",
        "colab": {}
      },
      "cell_type": "code",
      "source": [
        "df['words'] = df['full_reviews'].apply(preprocessing)"
      ],
      "execution_count": 0,
      "outputs": []
    },
    {
      "metadata": {
        "id": "y3u2H9y-fzaT",
        "colab_type": "code",
        "outputId": "690c9685-3d79-49f4-cfef-d18e8ba688d5",
        "colab": {
          "base_uri": "https://localhost:8080/",
          "height": 493
        }
      },
      "cell_type": "code",
      "source": [
        "df.head()"
      ],
      "execution_count": 0,
      "outputs": [
        {
          "output_type": "execute_result",
          "data": {
            "text/html": [
              "<div>\n",
              "<style scoped>\n",
              "    .dataframe tbody tr th:only-of-type {\n",
              "        vertical-align: middle;\n",
              "    }\n",
              "\n",
              "    .dataframe tbody tr th {\n",
              "        vertical-align: top;\n",
              "    }\n",
              "\n",
              "    .dataframe thead th {\n",
              "        text-align: right;\n",
              "    }\n",
              "</style>\n",
              "<table border=\"1\" class=\"dataframe\">\n",
              "  <thead>\n",
              "    <tr style=\"text-align: right;\">\n",
              "      <th></th>\n",
              "      <th>reviewer_name</th>\n",
              "      <th>review_rating</th>\n",
              "      <th>review_title</th>\n",
              "      <th>full_reviews</th>\n",
              "      <th>review_date</th>\n",
              "      <th>restaurant_name</th>\n",
              "      <th>restaurant_rating</th>\n",
              "      <th>restaurant_review_count</th>\n",
              "      <th>title_plus_review</th>\n",
              "      <th>sentences</th>\n",
              "      <th>vader_scores</th>\n",
              "      <th>avg_vader_score</th>\n",
              "      <th>words</th>\n",
              "    </tr>\n",
              "  </thead>\n",
              "  <tbody>\n",
              "    <tr>\n",
              "      <th>0</th>\n",
              "      <td>allanKeswick</td>\n",
              "      <td>5.0</td>\n",
              "      <td>loved the staff</td>\n",
              "      <td>I was in Manchester with my tg gurlfriend and ...</td>\n",
              "      <td>March 2019</td>\n",
              "      <td>No. 1 Canal Street</td>\n",
              "      <td>4.5</td>\n",
              "      <td>286</td>\n",
              "      <td>loved the staff. I was in Manchester with my t...</td>\n",
              "      <td>[loved the staff., I was in Manchester with my...</td>\n",
              "      <td>[0.5994, 0.8078, 0.7713, 0.2846, 0.2732, 0.9022]</td>\n",
              "      <td>0.606417</td>\n",
              "      <td>[manchester, tg, gurlfriend, restaurant, recom...</td>\n",
              "    </tr>\n",
              "    <tr>\n",
              "      <th>1</th>\n",
              "      <td>396sidh</td>\n",
              "      <td>4.0</td>\n",
              "      <td>Quick &amp; Good lunch !</td>\n",
              "      <td>It was our anniversary and we were looking for...</td>\n",
              "      <td>March 2019</td>\n",
              "      <td>No. 1 Canal Street</td>\n",
              "      <td>4.5</td>\n",
              "      <td>286</td>\n",
              "      <td>Quick &amp; Good lunch !. It was our anniversary a...</td>\n",
              "      <td>[Quick &amp; Good lunch !., It was our anniversary...</td>\n",
              "      <td>[0.4926, 0.0, 0.7506, 0.9652, 0.5719, 0.6361]</td>\n",
              "      <td>0.569400</td>\n",
              "      <td>[anniversary, looking, reasonably, priced, lun...</td>\n",
              "    </tr>\n",
              "    <tr>\n",
              "      <th>2</th>\n",
              "      <td>458stepheno</td>\n",
              "      <td>5.0</td>\n",
              "      <td>Really enjoy</td>\n",
              "      <td>Hey a lovely meal staff where lovely was over ...</td>\n",
              "      <td>March 2019</td>\n",
              "      <td>No. 1 Canal Street</td>\n",
              "      <td>4.5</td>\n",
              "      <td>286</td>\n",
              "      <td>Really enjoy . Hey a lovely meal staff where l...</td>\n",
              "      <td>[Really enjoy ., Hey a lovely meal staff where...</td>\n",
              "      <td>[0.5413, 0.8225, 0.4767]</td>\n",
              "      <td>0.613500</td>\n",
              "      <td>[hey, lovely, meal, staff, lovely, times, chec...</td>\n",
              "    </tr>\n",
              "    <tr>\n",
              "      <th>3</th>\n",
              "      <td>mancgay44</td>\n",
              "      <td>4.0</td>\n",
              "      <td>Service Excellent, food beautiful</td>\n",
              "      <td>Everything was lovely, especially peanut butte...</td>\n",
              "      <td>March 2019</td>\n",
              "      <td>No. 1 Canal Street</td>\n",
              "      <td>4.5</td>\n",
              "      <td>286</td>\n",
              "      <td>Service Excellent, food beautiful. Everything ...</td>\n",
              "      <td>[Service Excellent, food beautiful., Everythin...</td>\n",
              "      <td>[0.8225, 0.7232]</td>\n",
              "      <td>0.772850</td>\n",
              "      <td>[everything, lovely, especially, peanut, butte...</td>\n",
              "    </tr>\n",
              "    <tr>\n",
              "      <th>4</th>\n",
              "      <td>125dalem</td>\n",
              "      <td>5.0</td>\n",
              "      <td>Amazing food, Amazing service every time</td>\n",
              "      <td>Every time we visit No.1 Canal Street we get t...</td>\n",
              "      <td>March 2019</td>\n",
              "      <td>No. 1 Canal Street</td>\n",
              "      <td>4.5</td>\n",
              "      <td>286</td>\n",
              "      <td>Amazing food, Amazing service every time . Eve...</td>\n",
              "      <td>[Amazing food, Amazing service every time ., E...</td>\n",
              "      <td>[0.8225, 0.6696, 0.6239, 0.7311, 0.0]</td>\n",
              "      <td>0.569420</td>\n",
              "      <td>[every, time, visit, no, canal, street, get, b...</td>\n",
              "    </tr>\n",
              "  </tbody>\n",
              "</table>\n",
              "</div>"
            ],
            "text/plain": [
              "  reviewer_name  review_rating                               review_title  \\\n",
              "0  allanKeswick            5.0                            loved the staff   \n",
              "1       396sidh            4.0                       Quick & Good lunch !   \n",
              "2   458stepheno            5.0                              Really enjoy    \n",
              "3     mancgay44            4.0          Service Excellent, food beautiful   \n",
              "4      125dalem            5.0  Amazing food, Amazing service every time    \n",
              "\n",
              "                                        full_reviews  review_date  \\\n",
              "0  I was in Manchester with my tg gurlfriend and ...   March 2019   \n",
              "1  It was our anniversary and we were looking for...   March 2019   \n",
              "2  Hey a lovely meal staff where lovely was over ...   March 2019   \n",
              "3  Everything was lovely, especially peanut butte...   March 2019   \n",
              "4  Every time we visit No.1 Canal Street we get t...   March 2019   \n",
              "\n",
              "      restaurant_name  restaurant_rating  restaurant_review_count  \\\n",
              "0  No. 1 Canal Street                4.5                      286   \n",
              "1  No. 1 Canal Street                4.5                      286   \n",
              "2  No. 1 Canal Street                4.5                      286   \n",
              "3  No. 1 Canal Street                4.5                      286   \n",
              "4  No. 1 Canal Street                4.5                      286   \n",
              "\n",
              "                                   title_plus_review  \\\n",
              "0  loved the staff. I was in Manchester with my t...   \n",
              "1  Quick & Good lunch !. It was our anniversary a...   \n",
              "2  Really enjoy . Hey a lovely meal staff where l...   \n",
              "3  Service Excellent, food beautiful. Everything ...   \n",
              "4  Amazing food, Amazing service every time . Eve...   \n",
              "\n",
              "                                           sentences  \\\n",
              "0  [loved the staff., I was in Manchester with my...   \n",
              "1  [Quick & Good lunch !., It was our anniversary...   \n",
              "2  [Really enjoy ., Hey a lovely meal staff where...   \n",
              "3  [Service Excellent, food beautiful., Everythin...   \n",
              "4  [Amazing food, Amazing service every time ., E...   \n",
              "\n",
              "                                       vader_scores  avg_vader_score  \\\n",
              "0  [0.5994, 0.8078, 0.7713, 0.2846, 0.2732, 0.9022]         0.606417   \n",
              "1     [0.4926, 0.0, 0.7506, 0.9652, 0.5719, 0.6361]         0.569400   \n",
              "2                          [0.5413, 0.8225, 0.4767]         0.613500   \n",
              "3                                  [0.8225, 0.7232]         0.772850   \n",
              "4             [0.8225, 0.6696, 0.6239, 0.7311, 0.0]         0.569420   \n",
              "\n",
              "                                               words  \n",
              "0  [manchester, tg, gurlfriend, restaurant, recom...  \n",
              "1  [anniversary, looking, reasonably, priced, lun...  \n",
              "2  [hey, lovely, meal, staff, lovely, times, chec...  \n",
              "3  [everything, lovely, especially, peanut, butte...  \n",
              "4  [every, time, visit, no, canal, street, get, b...  "
            ]
          },
          "metadata": {
            "tags": []
          },
          "execution_count": 37
        }
      ]
    },
    {
      "metadata": {
        "id": "0NJ1xv8gp5ix",
        "colab_type": "code",
        "colab": {}
      },
      "cell_type": "code",
      "source": [
        "df['word_count'] = df['words'].apply(len)"
      ],
      "execution_count": 0,
      "outputs": []
    },
    {
      "metadata": {
        "id": "N6GOnuuQqiNt",
        "colab_type": "code",
        "colab": {}
      },
      "cell_type": "code",
      "source": [
        "wv = gensim.models.word2vec.Word2Vec(df['words'], size=15, window=5, min_count=1)"
      ],
      "execution_count": 0,
      "outputs": []
    },
    {
      "metadata": {
        "id": "Tn2xQ55JqiDP",
        "colab_type": "code",
        "colab": {}
      },
      "cell_type": "code",
      "source": [
        "vocabulary = list(wv.wv.vocab)"
      ],
      "execution_count": 0,
      "outputs": []
    },
    {
      "metadata": {
        "id": "Q6U9ELKIsubl",
        "colab_type": "code",
        "colab": {}
      },
      "cell_type": "code",
      "source": [
        "d = dict(zip(vocabulary, range(len(vocabulary))))"
      ],
      "execution_count": 0,
      "outputs": []
    },
    {
      "metadata": {
        "id": "TUB6SlOvsuYU",
        "colab_type": "code",
        "colab": {}
      },
      "cell_type": "code",
      "source": [
        "df['seq'] = [[d[word] for word in review] for review in df['words']]"
      ],
      "execution_count": 0,
      "outputs": []
    },
    {
      "metadata": {
        "id": "qUBooDf7vvUw",
        "colab_type": "code",
        "colab": {}
      },
      "cell_type": "code",
      "source": [
        "padded = pad_sequences(df['seq'], maxlen=30)"
      ],
      "execution_count": 0,
      "outputs": []
    },
    {
      "metadata": {
        "id": "3H3nQMe3vvON",
        "colab_type": "code",
        "outputId": "78bb4017-59c5-4f6a-bdcd-57b72238f236",
        "colab": {
          "base_uri": "https://localhost:8080/",
          "height": 34
        }
      },
      "cell_type": "code",
      "source": [
        "X = padded\n",
        "X.shape"
      ],
      "execution_count": 0,
      "outputs": [
        {
          "output_type": "execute_result",
          "data": {
            "text/plain": [
              "(388163, 30)"
            ]
          },
          "metadata": {
            "tags": []
          },
          "execution_count": 44
        }
      ]
    },
    {
      "metadata": {
        "id": "NODrg-wnvvK1",
        "colab_type": "code",
        "outputId": "9ca36123-2353-42c7-9fe1-f6c5f26cc770",
        "colab": {
          "base_uri": "https://localhost:8080/",
          "height": 34
        }
      },
      "cell_type": "code",
      "source": [
        "y = df['review_rating']\n",
        "y.shape"
      ],
      "execution_count": 0,
      "outputs": [
        {
          "output_type": "execute_result",
          "data": {
            "text/plain": [
              "(388163,)"
            ]
          },
          "metadata": {
            "tags": []
          },
          "execution_count": 45
        }
      ]
    },
    {
      "metadata": {
        "id": "8Q1blVQLvvIa",
        "colab_type": "code",
        "colab": {}
      },
      "cell_type": "code",
      "source": [
        "Xtrain, Xtest, ytrain, ytest = train_test_split(X, y, stratify=y, random_state=42)"
      ],
      "execution_count": 0,
      "outputs": []
    },
    {
      "metadata": {
        "id": "Hf3wlAjgvvF4",
        "colab_type": "code",
        "outputId": "0f371b29-1dc0-4319-97b7-aab1ba6b034c",
        "colab": {
          "base_uri": "https://localhost:8080/",
          "height": 34
        }
      },
      "cell_type": "code",
      "source": [
        "print(Xtrain.shape, Xtest.shape, ytrain.shape, ytest.shape)"
      ],
      "execution_count": 0,
      "outputs": [
        {
          "output_type": "stream",
          "text": [
            "(291122, 30) (97041, 30) (291122,) (97041,)\n"
          ],
          "name": "stdout"
        }
      ]
    },
    {
      "metadata": {
        "id": "ghdL7UQ74Ym8",
        "colab_type": "code",
        "outputId": "ae3ef2ab-aac6-4601-947b-382e3f5d303c",
        "colab": {
          "base_uri": "https://localhost:8080/",
          "height": 119
        }
      },
      "cell_type": "code",
      "source": [
        "ytrain.value_counts()"
      ],
      "execution_count": 0,
      "outputs": [
        {
          "output_type": "execute_result",
          "data": {
            "text/plain": [
              "5.0    161738\n",
              "4.0     65449\n",
              "3.0     28810\n",
              "1.0     18236\n",
              "2.0     16889\n",
              "Name: review_rating, dtype: int64"
            ]
          },
          "metadata": {
            "tags": []
          },
          "execution_count": 48
        }
      ]
    },
    {
      "metadata": {
        "id": "8Cdoa7dE2XTa",
        "colab_type": "code",
        "colab": {}
      },
      "cell_type": "code",
      "source": [
        "rus = RandomUnderSampler(random_state=42) # downsample to fix class imbalance"
      ],
      "execution_count": 0,
      "outputs": []
    },
    {
      "metadata": {
        "id": "mjZ4jcUz5UN_",
        "colab_type": "code",
        "colab": {}
      },
      "cell_type": "code",
      "source": [
        "X_res, y_res = rus.fit_resample(Xtrain, ytrain)"
      ],
      "execution_count": 0,
      "outputs": []
    },
    {
      "metadata": {
        "id": "qWcWusbBC3Qb",
        "colab_type": "code",
        "colab": {}
      },
      "cell_type": "code",
      "source": [
        "X_res, y_res = shuffle(X_res, y_res)"
      ],
      "execution_count": 0,
      "outputs": []
    },
    {
      "metadata": {
        "id": "NC25yJpO7S5T",
        "colab_type": "code",
        "colab": {}
      },
      "cell_type": "code",
      "source": [
        "y_res_1h = pd.get_dummies(y_res)"
      ],
      "execution_count": 0,
      "outputs": []
    },
    {
      "metadata": {
        "id": "uwNW7cRXL-UA",
        "colab_type": "code",
        "outputId": "7b49ee40-d5d1-4f1a-dea5-bc53467905cb",
        "colab": {
          "base_uri": "https://localhost:8080/",
          "height": 51
        }
      },
      "cell_type": "code",
      "source": [
        "# get imbedding weights\n",
        "weights = []\n",
        "for word in vocabulary:\n",
        "    weights.append(wv[word])"
      ],
      "execution_count": 0,
      "outputs": [
        {
          "output_type": "stream",
          "text": [
            "/usr/local/lib/python3.6/dist-packages/ipykernel_launcher.py:3: DeprecationWarning: Call to deprecated `__getitem__` (Method will be removed in 4.0.0, use self.wv.__getitem__() instead).\n",
            "  This is separate from the ipykernel package so we can avoid doing imports until\n"
          ],
          "name": "stderr"
        }
      ]
    },
    {
      "metadata": {
        "id": "-8WTB1335UI3",
        "colab_type": "code",
        "colab": {}
      },
      "cell_type": "code",
      "source": [
        "embedding_weights = np.array(weights)"
      ],
      "execution_count": 0,
      "outputs": []
    },
    {
      "metadata": {
        "id": "0-xC3Qj55UBm",
        "colab_type": "code",
        "colab": {}
      },
      "cell_type": "code",
      "source": [
        "# clear_session()\n",
        "\n",
        "# model = Sequential()\n",
        "# model.add(Embedding(len(vocabulary), 15, input_length=30, weights=[embedding_weights], trainable=False))\n",
        "# model.add(LSTM(20, return_sequences=True))\n",
        "# model.add(BatchNormalization())\n",
        "# model.add(LSTM(10))\n",
        "# model.add(BatchNormalization())\n",
        "# model.add(Flatten())\n",
        "# model.add(Dense(5))\n",
        "# model.add(Activation('softmax'))"
      ],
      "execution_count": 0,
      "outputs": []
    },
    {
      "metadata": {
        "id": "GIYPHBdfAURP",
        "colab_type": "code",
        "colab": {}
      },
      "cell_type": "code",
      "source": [
        "# model.compile(optimizer='Adam', loss='categorical_crossentropy', metrics=['accuracy'])"
      ],
      "execution_count": 0,
      "outputs": []
    },
    {
      "metadata": {
        "id": "EI-bGlCB6a8B",
        "colab_type": "code",
        "outputId": "42fd081a-4695-401d-996c-fb67a5e17c43",
        "colab": {
          "base_uri": "https://localhost:8080/",
          "height": 3451
        }
      },
      "cell_type": "code",
      "source": [
        "# model.fit(X_res, y_res_1h, batch_size=500, epochs=100, validation_split=0.2)"
      ],
      "execution_count": 0,
      "outputs": [
        {
          "output_type": "stream",
          "text": [
            "Train on 67556 samples, validate on 16889 samples\n",
            "Epoch 1/100\n",
            "67556/67556 [==============================] - 27s 405us/sample - loss: 1.3877 - acc: 0.3869 - val_loss: 1.3012 - val_acc: 0.4401\n",
            "Epoch 2/100\n",
            "67556/67556 [==============================] - 26s 383us/sample - loss: 1.1699 - acc: 0.4750 - val_loss: 1.1470 - val_acc: 0.4870\n",
            "Epoch 3/100\n",
            "67556/67556 [==============================] - 26s 382us/sample - loss: 1.0955 - acc: 0.5068 - val_loss: 1.0800 - val_acc: 0.5127\n",
            "Epoch 4/100\n",
            "67556/67556 [==============================] - 26s 384us/sample - loss: 1.0559 - acc: 0.5265 - val_loss: 1.0522 - val_acc: 0.5241\n",
            "Epoch 5/100\n",
            "67556/67556 [==============================] - 26s 383us/sample - loss: 1.0302 - acc: 0.5401 - val_loss: 1.0257 - val_acc: 0.5417\n",
            "Epoch 6/100\n",
            "67556/67556 [==============================] - 26s 384us/sample - loss: 1.0112 - acc: 0.5459 - val_loss: 1.0160 - val_acc: 0.5456\n",
            "Epoch 7/100\n",
            "67556/67556 [==============================] - 26s 384us/sample - loss: 0.9974 - acc: 0.5528 - val_loss: 1.0110 - val_acc: 0.5440\n",
            "Epoch 8/100\n",
            "67556/67556 [==============================] - 26s 382us/sample - loss: 0.9867 - acc: 0.5578 - val_loss: 0.9926 - val_acc: 0.5570\n",
            "Epoch 9/100\n",
            "67556/67556 [==============================] - 26s 381us/sample - loss: 0.9774 - acc: 0.5619 - val_loss: 0.9934 - val_acc: 0.5591\n",
            "Epoch 10/100\n",
            "67556/67556 [==============================] - 26s 383us/sample - loss: 0.9705 - acc: 0.5655 - val_loss: 0.9819 - val_acc: 0.5621\n",
            "Epoch 11/100\n",
            "67556/67556 [==============================] - 26s 383us/sample - loss: 0.9644 - acc: 0.5679 - val_loss: 0.9768 - val_acc: 0.5642\n",
            "Epoch 12/100\n",
            "67556/67556 [==============================] - 26s 384us/sample - loss: 0.9582 - acc: 0.5707 - val_loss: 0.9756 - val_acc: 0.5650\n",
            "Epoch 13/100\n",
            "67556/67556 [==============================] - 26s 384us/sample - loss: 0.9541 - acc: 0.5740 - val_loss: 0.9683 - val_acc: 0.5678\n",
            "Epoch 14/100\n",
            "67556/67556 [==============================] - 26s 382us/sample - loss: 0.9500 - acc: 0.5749 - val_loss: 0.9660 - val_acc: 0.5676\n",
            "Epoch 15/100\n",
            "67556/67556 [==============================] - 26s 383us/sample - loss: 0.9455 - acc: 0.5770 - val_loss: 0.9645 - val_acc: 0.5679\n",
            "Epoch 16/100\n",
            "67556/67556 [==============================] - 26s 384us/sample - loss: 0.9422 - acc: 0.5775 - val_loss: 0.9630 - val_acc: 0.5669\n",
            "Epoch 17/100\n",
            "67556/67556 [==============================] - 26s 383us/sample - loss: 0.9398 - acc: 0.5807 - val_loss: 0.9628 - val_acc: 0.5694\n",
            "Epoch 18/100\n",
            "67556/67556 [==============================] - 26s 383us/sample - loss: 0.9356 - acc: 0.5818 - val_loss: 0.9581 - val_acc: 0.5697\n",
            "Epoch 19/100\n",
            "67556/67556 [==============================] - 26s 381us/sample - loss: 0.9333 - acc: 0.5836 - val_loss: 0.9562 - val_acc: 0.5702\n",
            "Epoch 20/100\n",
            "67556/67556 [==============================] - 25s 377us/sample - loss: 0.9305 - acc: 0.5850 - val_loss: 0.9558 - val_acc: 0.5717\n",
            "Epoch 21/100\n",
            "67556/67556 [==============================] - 26s 382us/sample - loss: 0.9271 - acc: 0.5849 - val_loss: 0.9551 - val_acc: 0.5711\n",
            "Epoch 22/100\n",
            "67556/67556 [==============================] - 26s 383us/sample - loss: 0.9251 - acc: 0.5870 - val_loss: 0.9536 - val_acc: 0.5748\n",
            "Epoch 23/100\n",
            "67556/67556 [==============================] - 26s 383us/sample - loss: 0.9236 - acc: 0.5873 - val_loss: 0.9590 - val_acc: 0.5698\n",
            "Epoch 24/100\n",
            "67556/67556 [==============================] - 26s 382us/sample - loss: 0.9222 - acc: 0.5883 - val_loss: 0.9494 - val_acc: 0.5719\n",
            "Epoch 25/100\n",
            "67556/67556 [==============================] - 26s 382us/sample - loss: 0.9188 - acc: 0.5889 - val_loss: 0.9502 - val_acc: 0.5728\n",
            "Epoch 26/100\n",
            "67556/67556 [==============================] - 26s 383us/sample - loss: 0.9172 - acc: 0.5897 - val_loss: 0.9520 - val_acc: 0.5756\n",
            "Epoch 27/100\n",
            "67556/67556 [==============================] - 26s 383us/sample - loss: 0.9155 - acc: 0.5911 - val_loss: 0.9554 - val_acc: 0.5700\n",
            "Epoch 28/100\n",
            "67556/67556 [==============================] - 26s 381us/sample - loss: 0.9154 - acc: 0.5910 - val_loss: 0.9617 - val_acc: 0.5699\n",
            "Epoch 29/100\n",
            "67556/67556 [==============================] - 26s 381us/sample - loss: 0.9139 - acc: 0.5916 - val_loss: 0.9536 - val_acc: 0.5735\n",
            "Epoch 30/100\n",
            "67556/67556 [==============================] - 26s 382us/sample - loss: 0.9112 - acc: 0.5929 - val_loss: 0.9467 - val_acc: 0.5735\n",
            "Epoch 31/100\n",
            "67556/67556 [==============================] - 26s 382us/sample - loss: 0.9093 - acc: 0.5937 - val_loss: 0.9478 - val_acc: 0.5750\n",
            "Epoch 32/100\n",
            "67556/67556 [==============================] - 26s 380us/sample - loss: 0.9096 - acc: 0.5936 - val_loss: 0.9464 - val_acc: 0.5769\n",
            "Epoch 33/100\n",
            "67556/67556 [==============================] - 26s 381us/sample - loss: 0.9074 - acc: 0.5949 - val_loss: 0.9487 - val_acc: 0.5746\n",
            "Epoch 34/100\n",
            "67556/67556 [==============================] - 26s 381us/sample - loss: 0.9051 - acc: 0.5957 - val_loss: 0.9513 - val_acc: 0.5736\n",
            "Epoch 35/100\n",
            "67556/67556 [==============================] - 26s 383us/sample - loss: 0.9044 - acc: 0.5957 - val_loss: 0.9472 - val_acc: 0.5738\n",
            "Epoch 36/100\n",
            "67556/67556 [==============================] - 26s 383us/sample - loss: 0.9026 - acc: 0.5970 - val_loss: 0.9430 - val_acc: 0.5775\n",
            "Epoch 37/100\n",
            "67556/67556 [==============================] - 26s 383us/sample - loss: 0.9017 - acc: 0.5970 - val_loss: 0.9483 - val_acc: 0.5778\n",
            "Epoch 38/100\n",
            "67556/67556 [==============================] - 26s 382us/sample - loss: 0.8998 - acc: 0.5972 - val_loss: 0.9486 - val_acc: 0.5768\n",
            "Epoch 39/100\n",
            "67556/67556 [==============================] - 26s 383us/sample - loss: 0.8992 - acc: 0.5984 - val_loss: 0.9478 - val_acc: 0.5764\n",
            "Epoch 40/100\n",
            "67556/67556 [==============================] - 26s 385us/sample - loss: 0.8984 - acc: 0.5979 - val_loss: 0.9527 - val_acc: 0.5738\n",
            "Epoch 41/100\n",
            "67556/67556 [==============================] - 26s 384us/sample - loss: 0.8968 - acc: 0.5994 - val_loss: 0.9477 - val_acc: 0.5756\n",
            "Epoch 42/100\n",
            "67556/67556 [==============================] - 26s 383us/sample - loss: 0.8965 - acc: 0.5992 - val_loss: 0.9451 - val_acc: 0.5778\n",
            "Epoch 43/100\n",
            "67556/67556 [==============================] - 26s 383us/sample - loss: 0.8951 - acc: 0.5993 - val_loss: 0.9444 - val_acc: 0.5780\n",
            "Epoch 44/100\n",
            "67556/67556 [==============================] - 26s 379us/sample - loss: 0.8954 - acc: 0.5996 - val_loss: 0.9449 - val_acc: 0.5767\n",
            "Epoch 45/100\n",
            "67556/67556 [==============================] - 26s 383us/sample - loss: 0.8933 - acc: 0.6012 - val_loss: 0.9430 - val_acc: 0.5785\n",
            "Epoch 46/100\n",
            "67556/67556 [==============================] - 26s 385us/sample - loss: 0.8923 - acc: 0.6006 - val_loss: 0.9418 - val_acc: 0.5804\n",
            "Epoch 47/100\n",
            "67556/67556 [==============================] - 26s 384us/sample - loss: 0.8915 - acc: 0.6017 - val_loss: 0.9431 - val_acc: 0.5777\n",
            "Epoch 48/100\n",
            "67556/67556 [==============================] - 26s 384us/sample - loss: 0.8908 - acc: 0.6022 - val_loss: 0.9420 - val_acc: 0.5821\n",
            "Epoch 49/100\n",
            "67556/67556 [==============================] - 26s 386us/sample - loss: 0.8896 - acc: 0.6022 - val_loss: 0.9463 - val_acc: 0.5765\n",
            "Epoch 50/100\n",
            "67556/67556 [==============================] - 26s 387us/sample - loss: 0.8894 - acc: 0.6010 - val_loss: 0.9437 - val_acc: 0.5778\n",
            "Epoch 51/100\n",
            "67556/67556 [==============================] - 26s 385us/sample - loss: 0.8882 - acc: 0.6036 - val_loss: 0.9426 - val_acc: 0.5793\n",
            "Epoch 52/100\n",
            "67556/67556 [==============================] - 26s 386us/sample - loss: 0.8874 - acc: 0.6047 - val_loss: 0.9477 - val_acc: 0.5777\n",
            "Epoch 53/100\n",
            "67556/67556 [==============================] - 26s 385us/sample - loss: 0.8868 - acc: 0.6043 - val_loss: 0.9440 - val_acc: 0.5786\n",
            "Epoch 54/100\n",
            "67556/67556 [==============================] - 26s 384us/sample - loss: 0.8877 - acc: 0.6038 - val_loss: 0.9599 - val_acc: 0.5710\n",
            "Epoch 55/100\n",
            "67556/67556 [==============================] - 26s 384us/sample - loss: 0.8851 - acc: 0.6040 - val_loss: 0.9429 - val_acc: 0.5779\n",
            "Epoch 56/100\n",
            "67556/67556 [==============================] - 26s 382us/sample - loss: 0.8843 - acc: 0.6046 - val_loss: 0.9437 - val_acc: 0.5761\n",
            "Epoch 57/100\n",
            "67556/67556 [==============================] - 26s 383us/sample - loss: 0.8852 - acc: 0.6047 - val_loss: 0.9432 - val_acc: 0.5757\n",
            "Epoch 58/100\n",
            "67556/67556 [==============================] - 26s 384us/sample - loss: 0.8849 - acc: 0.6048 - val_loss: 0.9432 - val_acc: 0.5771\n",
            "Epoch 59/100\n",
            "67556/67556 [==============================] - 26s 383us/sample - loss: 0.8831 - acc: 0.6056 - val_loss: 0.9520 - val_acc: 0.5748\n",
            "Epoch 60/100\n",
            "67556/67556 [==============================] - 26s 383us/sample - loss: 0.8820 - acc: 0.6064 - val_loss: 0.9468 - val_acc: 0.5762\n",
            "Epoch 61/100\n",
            "67556/67556 [==============================] - 26s 382us/sample - loss: 0.8823 - acc: 0.6060 - val_loss: 0.9441 - val_acc: 0.5793\n",
            "Epoch 62/100\n",
            "67556/67556 [==============================] - 26s 384us/sample - loss: 0.8814 - acc: 0.6059 - val_loss: 0.9473 - val_acc: 0.5744\n",
            "Epoch 63/100\n",
            "67556/67556 [==============================] - 26s 384us/sample - loss: 0.8808 - acc: 0.6064 - val_loss: 0.9439 - val_acc: 0.5780\n",
            "Epoch 64/100\n",
            "67556/67556 [==============================] - 26s 384us/sample - loss: 0.8796 - acc: 0.6068 - val_loss: 0.9450 - val_acc: 0.5770\n",
            "Epoch 65/100\n",
            "67556/67556 [==============================] - 26s 384us/sample - loss: 0.8804 - acc: 0.6065 - val_loss: 0.9438 - val_acc: 0.5768\n",
            "Epoch 66/100\n",
            "67556/67556 [==============================] - 26s 385us/sample - loss: 0.8798 - acc: 0.6068 - val_loss: 0.9458 - val_acc: 0.5772\n",
            "Epoch 67/100\n",
            "67556/67556 [==============================] - 26s 380us/sample - loss: 0.8790 - acc: 0.6073 - val_loss: 0.9415 - val_acc: 0.5763\n",
            "Epoch 68/100\n",
            "67556/67556 [==============================] - 26s 382us/sample - loss: 0.8788 - acc: 0.6072 - val_loss: 0.9488 - val_acc: 0.5739\n",
            "Epoch 69/100\n",
            "67556/67556 [==============================] - 26s 384us/sample - loss: 0.8775 - acc: 0.6080 - val_loss: 0.9486 - val_acc: 0.5745\n",
            "Epoch 70/100\n",
            "67556/67556 [==============================] - 26s 382us/sample - loss: 0.8775 - acc: 0.6078 - val_loss: 0.9447 - val_acc: 0.5762\n",
            "Epoch 71/100\n",
            "67556/67556 [==============================] - 26s 385us/sample - loss: 0.8773 - acc: 0.6084 - val_loss: 0.9450 - val_acc: 0.5768\n",
            "Epoch 72/100\n",
            "67556/67556 [==============================] - 26s 386us/sample - loss: 0.8762 - acc: 0.6085 - val_loss: 0.9483 - val_acc: 0.5735\n",
            "Epoch 73/100\n",
            "67556/67556 [==============================] - 26s 387us/sample - loss: 0.8762 - acc: 0.6076 - val_loss: 0.9457 - val_acc: 0.5791\n",
            "Epoch 74/100\n",
            "67556/67556 [==============================] - 26s 384us/sample - loss: 0.8762 - acc: 0.6090 - val_loss: 0.9463 - val_acc: 0.5778\n",
            "Epoch 75/100\n",
            "67556/67556 [==============================] - 26s 382us/sample - loss: 0.8748 - acc: 0.6096 - val_loss: 0.9528 - val_acc: 0.5738\n",
            "Epoch 76/100\n",
            "67556/67556 [==============================] - 26s 384us/sample - loss: 0.8751 - acc: 0.6091 - val_loss: 0.9420 - val_acc: 0.5749\n",
            "Epoch 77/100\n",
            "67556/67556 [==============================] - 26s 382us/sample - loss: 0.8751 - acc: 0.6104 - val_loss: 0.9487 - val_acc: 0.5764\n",
            "Epoch 78/100\n",
            "67556/67556 [==============================] - 26s 383us/sample - loss: 0.8740 - acc: 0.6097 - val_loss: 0.9457 - val_acc: 0.5761\n",
            "Epoch 79/100\n",
            "67556/67556 [==============================] - 26s 383us/sample - loss: 0.8733 - acc: 0.6103 - val_loss: 0.9455 - val_acc: 0.5721\n",
            "Epoch 80/100\n",
            "67556/67556 [==============================] - 26s 381us/sample - loss: 0.8735 - acc: 0.6096 - val_loss: 0.9513 - val_acc: 0.5742\n",
            "Epoch 81/100\n",
            "67556/67556 [==============================] - 26s 383us/sample - loss: 0.8733 - acc: 0.6100 - val_loss: 0.9575 - val_acc: 0.5725\n",
            "Epoch 82/100\n",
            "67556/67556 [==============================] - 26s 383us/sample - loss: 0.8730 - acc: 0.6106 - val_loss: 0.9652 - val_acc: 0.5695\n",
            "Epoch 83/100\n",
            "67556/67556 [==============================] - 26s 384us/sample - loss: 0.8726 - acc: 0.6111 - val_loss: 0.9454 - val_acc: 0.5740\n",
            "Epoch 84/100\n",
            "67556/67556 [==============================] - 26s 383us/sample - loss: 0.8719 - acc: 0.6114 - val_loss: 0.9461 - val_acc: 0.5756\n",
            "Epoch 85/100\n",
            "67556/67556 [==============================] - 26s 384us/sample - loss: 0.8720 - acc: 0.6102 - val_loss: 0.9486 - val_acc: 0.5771\n",
            "Epoch 86/100\n",
            "67556/67556 [==============================] - 26s 383us/sample - loss: 0.8714 - acc: 0.6102 - val_loss: 0.9483 - val_acc: 0.5732\n",
            "Epoch 87/100\n",
            "67556/67556 [==============================] - 26s 385us/sample - loss: 0.8703 - acc: 0.6117 - val_loss: 0.9479 - val_acc: 0.5742\n",
            "Epoch 88/100\n",
            "67556/67556 [==============================] - 26s 385us/sample - loss: 0.8710 - acc: 0.6114 - val_loss: 0.9540 - val_acc: 0.5761\n",
            "Epoch 89/100\n",
            "67556/67556 [==============================] - 26s 384us/sample - loss: 0.8703 - acc: 0.6132 - val_loss: 0.9484 - val_acc: 0.5756\n",
            "Epoch 90/100\n",
            "67556/67556 [==============================] - 26s 381us/sample - loss: 0.8702 - acc: 0.6114 - val_loss: 0.9439 - val_acc: 0.5759\n",
            "Epoch 91/100\n",
            "67556/67556 [==============================] - 26s 379us/sample - loss: 0.8697 - acc: 0.6106 - val_loss: 0.9533 - val_acc: 0.5721\n",
            "Epoch 92/100\n",
            "67556/67556 [==============================] - 26s 379us/sample - loss: 0.8696 - acc: 0.6105 - val_loss: 0.9474 - val_acc: 0.5769\n",
            "Epoch 93/100\n",
            "67556/67556 [==============================] - 26s 382us/sample - loss: 0.8711 - acc: 0.6106 - val_loss: 0.9467 - val_acc: 0.5770\n",
            "Epoch 94/100\n",
            "67556/67556 [==============================] - 26s 380us/sample - loss: 0.8700 - acc: 0.6118 - val_loss: 0.9431 - val_acc: 0.5791\n",
            "Epoch 95/100\n",
            "67556/67556 [==============================] - 26s 380us/sample - loss: 0.8690 - acc: 0.6128 - val_loss: 0.9511 - val_acc: 0.5747\n",
            "Epoch 96/100\n",
            "67556/67556 [==============================] - 26s 382us/sample - loss: 0.8691 - acc: 0.6123 - val_loss: 0.9581 - val_acc: 0.5746\n",
            "Epoch 97/100\n",
            "67556/67556 [==============================] - 26s 382us/sample - loss: 0.8686 - acc: 0.6115 - val_loss: 0.9465 - val_acc: 0.5778\n",
            "Epoch 98/100\n",
            "67556/67556 [==============================] - 26s 380us/sample - loss: 0.8678 - acc: 0.6128 - val_loss: 0.9455 - val_acc: 0.5777\n",
            "Epoch 99/100\n",
            "67556/67556 [==============================] - 26s 379us/sample - loss: 0.8672 - acc: 0.6128 - val_loss: 0.9538 - val_acc: 0.5759\n",
            "Epoch 100/100\n",
            "67556/67556 [==============================] - 26s 378us/sample - loss: 0.8680 - acc: 0.6134 - val_loss: 0.9481 - val_acc: 0.5759\n"
          ],
          "name": "stdout"
        },
        {
          "output_type": "execute_result",
          "data": {
            "text/plain": [
              "<tensorflow.python.keras.callbacks.History at 0x7ff0c30796a0>"
            ]
          },
          "metadata": {
            "tags": []
          },
          "execution_count": 175
        }
      ]
    },
    {
      "metadata": {
        "id": "oboeEIqv_tS4",
        "colab_type": "code",
        "outputId": "f258fa48-20f6-4db7-e411-95f296d36fe9",
        "colab": {
          "base_uri": "https://localhost:8080/",
          "height": 68
        }
      },
      "cell_type": "code",
      "source": [
        "# load json and create model\n",
        "json_file = open('/content/gdrive/My Drive/model.json', 'r')\n",
        "loaded_model_json = json_file.read()\n",
        "json_file.close()\n",
        "loaded_model = model_from_json(loaded_model_json)"
      ],
      "execution_count": 0,
      "outputs": [
        {
          "output_type": "stream",
          "text": [
            "WARNING:tensorflow:From /usr/local/lib/python3.6/dist-packages/tensorflow/python/ops/resource_variable_ops.py:435: colocate_with (from tensorflow.python.framework.ops) is deprecated and will be removed in a future version.\n",
            "Instructions for updating:\n",
            "Colocations handled automatically by placer.\n"
          ],
          "name": "stdout"
        }
      ]
    },
    {
      "metadata": {
        "id": "GqWqD8wSmnJS",
        "colab_type": "code",
        "colab": {}
      },
      "cell_type": "code",
      "source": [
        "# load weights into new model\n",
        "loaded_model.load_weights(\"/content/gdrive/My Drive/model.h5\")"
      ],
      "execution_count": 0,
      "outputs": []
    },
    {
      "metadata": {
        "id": "wSdtj49T6a4p",
        "colab_type": "code",
        "colab": {}
      },
      "cell_type": "code",
      "source": [
        "ytest_1h = pd.get_dummies(ytest)"
      ],
      "execution_count": 0,
      "outputs": []
    },
    {
      "metadata": {
        "id": "TCaKzBI76a2A",
        "colab_type": "code",
        "outputId": "079cc52e-8e73-41ed-d78a-9ca64927f9ee",
        "colab": {
          "base_uri": "https://localhost:8080/",
          "height": 51
        }
      },
      "cell_type": "code",
      "source": [
        "# model.evaluate(Xtest, ytest_1h, batch_size=500)"
      ],
      "execution_count": 0,
      "outputs": [
        {
          "output_type": "stream",
          "text": [
            "97041/97041 [==============================] - 12s 125us/sample - loss: 0.8100 - acc: 0.6517\n"
          ],
          "name": "stdout"
        },
        {
          "output_type": "execute_result",
          "data": {
            "text/plain": [
              "[0.8099527144510442, 0.6517039]"
            ]
          },
          "metadata": {
            "tags": []
          },
          "execution_count": 181
        }
      ]
    },
    {
      "metadata": {
        "id": "UlLNa8PYAvQU",
        "colab_type": "code",
        "outputId": "c1d49bb2-3df0-424c-fb78-c7b929169d53",
        "colab": {
          "base_uri": "https://localhost:8080/",
          "height": 51
        }
      },
      "cell_type": "code",
      "source": [
        "# evaluate loaded model on test data\n",
        "loaded_model.compile(loss='categorical_crossentropy', optimizer='Adam', metrics=['accuracy'])\n",
        "score = loaded_model.evaluate(Xtest, ytest_1h, batch_size=500)\n",
        "print(\"%s: %.2f%%\" % (loaded_model.metrics_names[1], score[1]*100))"
      ],
      "execution_count": 0,
      "outputs": [
        {
          "output_type": "stream",
          "text": [
            "97041/97041 [==============================] - 14s 140us/sample - loss: 0.8100 - acc: 0.6517\n",
            "acc: 65.17%\n"
          ],
          "name": "stdout"
        }
      ]
    },
    {
      "metadata": {
        "id": "UFtl1xG1kjlP",
        "colab_type": "code",
        "colab": {}
      },
      "cell_type": "code",
      "source": [
        "# h = _175"
      ],
      "execution_count": 0,
      "outputs": []
    },
    {
      "metadata": {
        "id": "AwZjHfvQ8TiH",
        "colab_type": "code",
        "outputId": "4e1a41a0-f187-4ce5-81af-3f03fba5a8a2",
        "colab": {
          "base_uri": "https://localhost:8080/",
          "height": 400
        }
      },
      "cell_type": "code",
      "source": [
        "fig = plt.figure()\n",
        "plt.plot(h.history['acc'], 'm-')\n",
        "fig.suptitle('Learning Rate of LSTM Model to Predict Review Ratings')\n",
        "plt.xlabel('epochs')\n",
        "plt.ylabel('accuracy')\n",
        "fig.savefig('/content/gdrive/My Drive/learning_curve.jpg')"
      ],
      "execution_count": 0,
      "outputs": [
        {
          "output_type": "display_data",
          "data": {
            "image/png": "[encoded data removed]",
            "text/plain": [
              "<Figure size 576x396 with 1 Axes>"
            ]
          },
          "metadata": {
            "tags": []
          }
        }
      ]
    },
    {
      "metadata": {
        "id": "l_YbeaNg6aze",
        "colab_type": "code",
        "colab": {}
      },
      "cell_type": "code",
      "source": [
        ""
      ],
      "execution_count": 0,
      "outputs": []
    },
    {
      "metadata": {
        "id": "m_G16h_rkZoR",
        "colab_type": "code",
        "colab": {}
      },
      "cell_type": "code",
      "source": [
        ""
      ],
      "execution_count": 0,
      "outputs": []
    },
    {
      "metadata": {
        "id": "QIJb_gomoz1m",
        "colab_type": "code",
        "colab": {}
      },
      "cell_type": "code",
      "source": [
        ""
      ],
      "execution_count": 0,
      "outputs": []
    }
  ]
}